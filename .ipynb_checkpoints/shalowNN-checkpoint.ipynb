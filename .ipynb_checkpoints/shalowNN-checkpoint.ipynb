{
 "cells": [
  {
   "cell_type": "code",
   "execution_count": 3,
   "metadata": {},
   "outputs": [],
   "source": [
    "#Import the libraries\n",
    "import numpy as np\n",
    "import matplotlib.pyplot as plt\n",
    "from planar_utils import plot_decision_boundary, sigmoid, load_planar_dataset, load_extra_datasets\n",
    "\n",
    "%matplotlib inline"
   ]
  },
  {
   "cell_type": "code",
   "execution_count": 4,
   "metadata": {
    "collapsed": true
   },
   "outputs": [],
   "source": [
    "def model(X, Y, num_iterations = 2000, learning_rate= 0.05, print_cost=False):\n",
    "    \n",
    "    #Define the structure\n",
    "    n_x, n_h, n_y = defineNNStructure(X, Y)\n",
    "    \n",
    "    #Initialize weights\n",
    "    parameters = initialize_randomly(n_x, n_h, n_y)\n",
    "    \n",
    "    #Run the model\n",
    "    for i in range(num_iterations):\n",
    "        \n",
    "        #Forward Propagation\n",
    "        A2, cache = forwardPropagation(X, parameters)\n",
    "        \n",
    "        #computeCost\n",
    "        cost = computeCost(Y, A2)\n",
    "        if print_cost and i%100==0:\n",
    "            print(\"Cost at iteration \" + str(i) + \" is \" + str(cost))\n",
    "        \n",
    "        #Back Propagation\n",
    "        grads = backPropagation(X, Y, cache, parameters)\n",
    "        \n",
    "        #Update Parameters\n",
    "        parameters[\"W1\"] = parameters[\"W1\"] - learning_rate * grads[\"W1\"]\n",
    "        parameters[\"b1\"] = parameters[\"b1\"] - learning_rate * grads[\"b1\"]\n",
    "        parameters[\"W2\"] = parameters[\"W2\"] - learning_rate * grads[\"W2\"]\n",
    "        parameters[\"b2\"] = parameters[\"b2\"] - learning_rate * grads[\"b2\"]\n",
    "        \n",
    "    return parameters"
   ]
  },
  {
   "cell_type": "code",
   "execution_count": 7,
   "metadata": {
    "collapsed": true
   },
   "outputs": [],
   "source": [
    "def defineNNStructure(X, Y):\n",
    "    n_x = X.shape[0]\n",
    "    n_h = 4\n",
    "    n_y = Y.shape[0]\n",
    "    return n_x, n_h, n_y"
   ]
  },
  {
   "cell_type": "code",
   "execution_count": 8,
   "metadata": {},
   "outputs": [],
   "source": [
    "def initialize_randomly(n_x, n_h, n_y):\n",
    "    W1 = np.random.randn((n_h, n_x), dtype=float) * 0.01\n",
    "    W2 = np.random.randn((n_y, n_h), dtype=float) * 0.01\n",
    "    b1 = np.zeros((n_h, 1), dtype=float)\n",
    "    b2 = np.zeros((n_y, 1), dtype=float)\n",
    "    parameters = {\n",
    "        \"W1\" : W1,\n",
    "        \"b1\" : b1,\n",
    "        \"W2\" : W2,\n",
    "        \"b2\" : b2\n",
    "    }\n",
    "    return parameters"
   ]
  },
  {
   "cell_type": "code",
   "execution_count": 9,
   "metadata": {
    "collapsed": true
   },
   "outputs": [],
   "source": [
    "def forwardPropagation(X, parameters):\n",
    "    W1 = parameters[\"W1\"]\n",
    "    b1 = parameters[\"b1\"]\n",
    "    W2 = parameters[\"W2\"]\n",
    "    b2 = parameters[\"b2\"]\n",
    "    \n",
    "    Z1 = np.dot(W1, X) + b1\n",
    "    A1 = tanh(Z1)\n",
    "    Z2 = np.dot(W2, A1) + b2\n",
    "    A2 = sigmoid(Z2)\n",
    "    \n",
    "    cache = {\n",
    "        \"Z1\" : Z1,\n",
    "        \"A1\" : A1,\n",
    "        \"Z2\" : Z2,\n",
    "        \"A2\" : A2\n",
    "    }\n",
    "    return A2, chache\n",
    "\n",
    "\n",
    "def tanh(Z):\n",
    "    H = (np.exp(Z) - np.exp(-Z))/(np.exp(Z) + np.exp(-Z))\n",
    "    return H"
   ]
  },
  {
   "cell_type": "code",
   "execution_count": null,
   "metadata": {
    "collapsed": true
   },
   "outputs": [],
   "source": [
    "def computeCost(Y, A2):\n",
    "    m = Y.shape[1]\n",
    "    cost = (1/m) * (np.dot(Y, np.log(A2.T)) + np.dot(1-Y, np.log(1 - A.T)))\n",
    "    return cost"
   ]
  },
  {
   "cell_type": "code",
   "execution_count": 10,
   "metadata": {
    "collapsed": true
   },
   "outputs": [],
   "source": [
    "def backpropagation(X, Y, cache, parameters):\n",
    "    W1 = parameters[\"W1\"]\n",
    "    b1 = parameters[\"b1\"]\n",
    "    W2 = parameters[\"W2\"]\n",
    "    b2 = parameters[\"b2\"]\n",
    "    Z1 = cache[\"Z1\"]\n",
    "    A1 = cache[\"A1\"]\n",
    "    Z2 = cache[\"Z2\"]\n",
    "    A2 = cache[\"A2\"]\n",
    "    m = X.shape[1]\n",
    "    \n",
    "    dZ2 = A2 - Y\n",
    "    dW2 = (1/m) * np.dot(dZ2, A1.T)\n",
    "    db2 = (1/m) * np.sum(dZ2, axis=1, keepDims=True)\n",
    "    dZ1 = np.dot(W2.T, dZ2) * (1 - np.power(A1, 2))\n",
    "    dW1 = (1/m) * np.dot(dZ1, X.T)\n",
    "    db1 = (1/m) * np.sum(dZ1, axis=1, keepDims=True)\n",
    "    \n",
    "    grads = {\n",
    "        \"dW2\" : dW2,\n",
    "        \"db2\" : db2,\n",
    "        \"dW1\" : dW1,\n",
    "        \"db1\" : db1\n",
    "    }\n",
    "    \n",
    "    return grads"
   ]
  },
  {
   "cell_type": "code",
   "execution_count": null,
   "metadata": {
    "collapsed": true
   },
   "outputs": [],
   "source": []
  }
 ],
 "metadata": {
  "kernelspec": {
   "display_name": "Python 3",
   "language": "python",
   "name": "python3"
  },
  "language_info": {
   "codemirror_mode": {
    "name": "ipython",
    "version": 3
   },
   "file_extension": ".py",
   "mimetype": "text/x-python",
   "name": "python",
   "nbconvert_exporter": "python",
   "pygments_lexer": "ipython3",
   "version": "3.6.3"
  }
 },
 "nbformat": 4,
 "nbformat_minor": 2
}
